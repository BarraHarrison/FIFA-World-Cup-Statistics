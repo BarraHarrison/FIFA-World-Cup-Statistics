{
 "cells": [
  {
   "cell_type": "code",
   "execution_count": 7,
   "id": "bfcc3b91-7ccb-4647-912e-857d276871bd",
   "metadata": {},
   "outputs": [
    {
     "name": "stdout",
     "output_type": "stream",
     "text": [
      "=== WorldCupMatches Columns ===\n",
      "Index(['Year', 'Datetime', 'Stage', 'Stadium', 'City', 'Home Team Name',\n",
      "       'Home Team Goals', 'Away Team Goals', 'Away Team Name',\n",
      "       'Win conditions', 'Attendance', 'Half-time Home Goals',\n",
      "       'Half-time Away Goals', 'Referee', 'Assistant 1', 'Assistant 2',\n",
      "       'RoundID', 'MatchID', 'Home Team Initials', 'Away Team Initials'],\n",
      "      dtype='object')\n",
      "=== WorldCupPlayers Columns ===\n",
      "Index(['RoundID', 'MatchID', 'Team Initials', 'Coach Name', 'Line-up',\n",
      "       'Shirt Number', 'Player Name', 'Position', 'Event'],\n",
      "      dtype='object')\n",
      "=== WorldCups Columns ===\n",
      "Index(['Year', 'Country', 'Winner', 'Runners-Up', 'Third', 'Fourth',\n",
      "       'GoalsScored', 'QualifiedTeams', 'MatchesPlayed', 'Attendance'],\n",
      "      dtype='object')\n"
     ]
    }
   ],
   "source": [
    "import pandas as pd\n",
    "\n",
    "matches_df = pd.read_csv(\"datasets/WorldCupMatches.csv\")\n",
    "players_df = pd.read_csv(\"datasets/WorldCupPlayers.csv\")\n",
    "worldcups_df = pd.read_csv(\"datasets/WorldCups.csv\")\n",
    "\n",
    "print(\"=== WorldCupMatches Columns ===\")\n",
    "print(matches_df.columns)\n",
    "\n",
    "print(\"=== WorldCupPlayers Columns ===\")\n",
    "print(players_df.columns)\n",
    "\n",
    "print(\"=== WorldCups Columns ===\")\n",
    "print(worldcups_df.columns)"
   ]
  },
  {
   "cell_type": "markdown",
   "id": "831b14ec-b9d3-4a19-a058-9f93c0383f4b",
   "metadata": {},
   "source": [
    "# Data Pre-Processing"
   ]
  },
  {
   "cell_type": "code",
   "execution_count": 8,
   "id": "dfe83942-ded9-4c71-b8bd-ae550134c18f",
   "metadata": {},
   "outputs": [],
   "source": [
    "matches_df.dropna(how='all', inplace=True)\n",
    "matches_df = matches_df.dropna(subset=['Year'])\n",
    "matches_df['Year'] = matches_df['Year'].astype(int)\n",
    "matches_df['Datetime'] = pd.to_datetime(matches_df['Datetime'], errors='coerce')\n",
    "\n",
    "goal_cols = ['Home Team Goals', 'Away Team Goals', 'Half-time Home Goals', 'Half-time Away Goals']\n",
    "matches_df[goal_cols] = matches_df[goal_cols].astype('Int64')\n",
    "\n",
    "matches_df['Attendance'] = pd.to_numeric(matches_df['Attendance'], errors='coerce').round().astype('Int64')\n",
    "\n",
    "matches_df['Home Team Name'] = matches_df['Home Team Name'].str.strip()\n",
    "matches_df['Away Team Name'] = matches_df['Away Team Name'].str.strip()\n",
    "\n",
    "players_df['Shirt Number'] = pd.to_numeric(players_df['Shirt Number'], errors='coerce')\n",
    "\n",
    "worldcups_df['Attendance'] = worldcups_df['Attendance'].replace('[\\.,]', '', regex=True).astype(int)\n",
    "worldcups_df['Year'] = worldcups_df['Year'].astype(int)"
   ]
  },
  {
   "cell_type": "markdown",
   "id": "3710f19f-b8c9-464a-835a-cb36a17a4919",
   "metadata": {},
   "source": [
    "# Feature Engineering"
   ]
  },
  {
   "cell_type": "markdown",
   "id": "eac15b46-d07e-41da-9ef5-af4b7418b1da",
   "metadata": {},
   "source": [
    "### Creating a new match winner column"
   ]
  },
  {
   "cell_type": "code",
   "execution_count": 10,
   "id": "ded51849-5f34-418e-a651-65a8e7d59349",
   "metadata": {},
   "outputs": [
    {
     "name": "stdout",
     "output_type": "stream",
     "text": [
      "   Year Home Team Name Away Team Name  Home Team Goals  Away Team Goals  \\\n",
      "0  1930         France         Mexico                4                1   \n",
      "1  1930            USA        Belgium                3                0   \n",
      "2  1930     Yugoslavia         Brazil                2                1   \n",
      "3  1930        Romania           Peru                3                1   \n",
      "4  1930      Argentina         France                1                0   \n",
      "\n",
      "  match_winner  goal_difference  total_goals  \n",
      "0         Home                3            5  \n",
      "1         Home                3            3  \n",
      "2         Home                1            3  \n",
      "3         Home                2            4  \n",
      "4         Home                1            1  \n"
     ]
    }
   ],
   "source": [
    "def get_match_winner(row):\n",
    "    if row['Home Team Goals'] > row['Away Team Goals']:\n",
    "        return 'Home'\n",
    "    elif row['Home Team Goals'] < row['Away Team Goals']:\n",
    "        return 'Away'\n",
    "    else:\n",
    "        return 'Draw'\n",
    "\n",
    "matches_df['match_winner'] = matches_df.apply(get_match_winner, axis=1)\n",
    "matches_df['goal_difference'] = (matches_df['Home Team Goals'] - matches_df['Away Team Goals']).abs()\n",
    "matches_df['total_goals'] = matches_df['Home Team Goals'] + matches_df['Away Team Goals']\n",
    "\n",
    "print(matches_df[['Year', 'Home Team Name', 'Away Team Name', 'Home Team Goals', 'Away Team Goals', 'match_winner', 'goal_difference', 'total_goals']].head())"
   ]
  },
  {
   "cell_type": "code",
   "execution_count": null,
   "id": "6217bae8-3b14-4e38-8040-33aa6ee1b922",
   "metadata": {},
   "outputs": [],
   "source": []
  }
 ],
 "metadata": {
  "kernelspec": {
   "display_name": "Python 3 (ipykernel)",
   "language": "python",
   "name": "python3"
  },
  "language_info": {
   "codemirror_mode": {
    "name": "ipython",
    "version": 3
   },
   "file_extension": ".py",
   "mimetype": "text/x-python",
   "name": "python",
   "nbconvert_exporter": "python",
   "pygments_lexer": "ipython3",
   "version": "3.9.6"
  }
 },
 "nbformat": 4,
 "nbformat_minor": 5
}

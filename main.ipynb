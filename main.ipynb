{
 "cells": [
  {
   "cell_type": "code",
   "execution_count": 7,
   "id": "bfcc3b91-7ccb-4647-912e-857d276871bd",
   "metadata": {},
   "outputs": [
    {
     "name": "stdout",
     "output_type": "stream",
     "text": [
      "=== WorldCupMatches Columns ===\n",
      "Index(['Year', 'Datetime', 'Stage', 'Stadium', 'City', 'Home Team Name',\n",
      "       'Home Team Goals', 'Away Team Goals', 'Away Team Name',\n",
      "       'Win conditions', 'Attendance', 'Half-time Home Goals',\n",
      "       'Half-time Away Goals', 'Referee', 'Assistant 1', 'Assistant 2',\n",
      "       'RoundID', 'MatchID', 'Home Team Initials', 'Away Team Initials'],\n",
      "      dtype='object')\n",
      "=== WorldCupPlayers Columns ===\n",
      "Index(['RoundID', 'MatchID', 'Team Initials', 'Coach Name', 'Line-up',\n",
      "       'Shirt Number', 'Player Name', 'Position', 'Event'],\n",
      "      dtype='object')\n",
      "=== WorldCups Columns ===\n",
      "Index(['Year', 'Country', 'Winner', 'Runners-Up', 'Third', 'Fourth',\n",
      "       'GoalsScored', 'QualifiedTeams', 'MatchesPlayed', 'Attendance'],\n",
      "      dtype='object')\n"
     ]
    }
   ],
   "source": [
    "import pandas as pd\n",
    "\n",
    "matches_df = pd.read_csv(\"datasets/WorldCupMatches.csv\")\n",
    "players_df = pd.read_csv(\"datasets/WorldCupPlayers.csv\")\n",
    "worldcups_df = pd.read_csv(\"datasets/WorldCups.csv\")\n",
    "\n",
    "print(\"=== WorldCupMatches Columns ===\")\n",
    "print(matches_df.columns)\n",
    "\n",
    "print(\"=== WorldCupPlayers Columns ===\")\n",
    "print(players_df.columns)\n",
    "\n",
    "print(\"=== WorldCups Columns ===\")\n",
    "print(worldcups_df.columns)"
   ]
  },
  {
   "cell_type": "markdown",
   "id": "831b14ec-b9d3-4a19-a058-9f93c0383f4b",
   "metadata": {},
   "source": [
    "# Data Pre-Processing"
   ]
  },
  {
   "cell_type": "code",
   "execution_count": 8,
   "id": "dfe83942-ded9-4c71-b8bd-ae550134c18f",
   "metadata": {},
   "outputs": [],
   "source": [
    "matches_df.dropna(how='all', inplace=True)\n",
    "matches_df = matches_df.dropna(subset=['Year'])\n",
    "matches_df['Year'] = matches_df['Year'].astype(int)\n",
    "matches_df['Datetime'] = pd.to_datetime(matches_df['Datetime'], errors='coerce')\n",
    "\n",
    "goal_cols = ['Home Team Goals', 'Away Team Goals', 'Half-time Home Goals', 'Half-time Away Goals']\n",
    "matches_df[goal_cols] = matches_df[goal_cols].astype('Int64')\n",
    "\n",
    "matches_df['Attendance'] = pd.to_numeric(matches_df['Attendance'], errors='coerce').round().astype('Int64')\n",
    "\n",
    "matches_df['Home Team Name'] = matches_df['Home Team Name'].str.strip()\n",
    "matches_df['Away Team Name'] = matches_df['Away Team Name'].str.strip()\n",
    "\n",
    "players_df['Shirt Number'] = pd.to_numeric(players_df['Shirt Number'], errors='coerce')\n",
    "\n",
    "worldcups_df['Attendance'] = worldcups_df['Attendance'].replace('[\\.,]', '', regex=True).astype(int)\n",
    "worldcups_df['Year'] = worldcups_df['Year'].astype(int)"
   ]
  },
  {
   "cell_type": "code",
   "execution_count": null,
   "id": "6ebda88e-a7f6-47ae-9658-2bf884189b4b",
   "metadata": {},
   "outputs": [],
   "source": []
  }
 ],
 "metadata": {
  "kernelspec": {
   "display_name": "Python 3 (ipykernel)",
   "language": "python",
   "name": "python3"
  },
  "language_info": {
   "codemirror_mode": {
    "name": "ipython",
    "version": 3
   },
   "file_extension": ".py",
   "mimetype": "text/x-python",
   "name": "python",
   "nbconvert_exporter": "python",
   "pygments_lexer": "ipython3",
   "version": "3.9.6"
  }
 },
 "nbformat": 4,
 "nbformat_minor": 5
}

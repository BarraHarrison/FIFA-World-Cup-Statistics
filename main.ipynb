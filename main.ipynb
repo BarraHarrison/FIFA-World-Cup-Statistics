{
 "cells": [
  {
   "cell_type": "code",
   "execution_count": 4,
   "id": "bfcc3b91-7ccb-4647-912e-857d276871bd",
   "metadata": {},
   "outputs": [
    {
     "name": "stdout",
     "output_type": "stream",
     "text": [
      "=== WorldCupMatches Columns ===\n",
      "Index(['Year', 'Datetime', 'Stage', 'Stadium', 'City', 'Home Team Name',\n",
      "       'Home Team Goals', 'Away Team Goals', 'Away Team Name',\n",
      "       'Win conditions', 'Attendance', 'Half-time Home Goals',\n",
      "       'Half-time Away Goals', 'Referee', 'Assistant 1', 'Assistant 2',\n",
      "       'RoundID', 'MatchID', 'Home Team Initials', 'Away Team Initials'],\n",
      "      dtype='object')\n",
      "=== WorldCupPlayers Columns ===\n",
      "Index(['RoundID', 'MatchID', 'Team Initials', 'Coach Name', 'Line-up',\n",
      "       'Shirt Number', 'Player Name', 'Position', 'Event'],\n",
      "      dtype='object')\n",
      "=== WorldCups Columns ===\n",
      "Index(['Year', 'Country', 'Winner', 'Runners-Up', 'Third', 'Fourth',\n",
      "       'GoalsScored', 'QualifiedTeams', 'MatchesPlayed', 'Attendance'],\n",
      "      dtype='object')\n"
     ]
    }
   ],
   "source": [
    "import pandas as pd\n",
    "\n",
    "matches_df = pd.read_csv(\"datasets/WorldCupMatches.csv\")\n",
    "players_df = pd.read_csv(\"datasets/WorldCupPlayers.csv\")\n",
    "worldcups_df = pd.read_csv(\"datasets/WorldCups.csv\")\n",
    "\n",
    "print(\"=== WorldCupMatches Columns ===\")\n",
    "print(matches_df.columns)\n",
    "\n",
    "print(\"=== WorldCupPlayers Columns ===\")\n",
    "print(players_df.columns)\n",
    "\n",
    "print(\"=== WorldCups Columns ===\")\n",
    "print(worldcups_df.columns)"
   ]
  },
  {
   "cell_type": "markdown",
   "id": "831b14ec-b9d3-4a19-a058-9f93c0383f4b",
   "metadata": {},
   "source": [
    "# Data Pre-Processing"
   ]
  },
  {
   "cell_type": "code",
   "execution_count": 5,
   "id": "dfe83942-ded9-4c71-b8bd-ae550134c18f",
   "metadata": {},
   "outputs": [
    {
     "name": "stdout",
     "output_type": "stream",
     "text": [
      "Year                    3720\n",
      "Datetime                3720\n",
      "Stage                   3720\n",
      "Stadium                 3720\n",
      "City                    3720\n",
      "Home Team Name          3720\n",
      "Home Team Goals         3720\n",
      "Away Team Goals         3720\n",
      "Away Team Name          3720\n",
      "Win conditions          3720\n",
      "Attendance              3722\n",
      "Half-time Home Goals    3720\n",
      "Half-time Away Goals    3720\n",
      "Referee                 3720\n",
      "Assistant 1             3720\n",
      "Assistant 2             3720\n",
      "RoundID                 3720\n",
      "MatchID                 3720\n",
      "Home Team Initials      3720\n",
      "Away Team Initials      3720\n",
      "dtype: int64 \n",
      "\n",
      "RoundID              0\n",
      "MatchID              0\n",
      "Team Initials        0\n",
      "Coach Name           0\n",
      "Line-up              0\n",
      "Shirt Number         0\n",
      "Player Name          0\n",
      "Position         33641\n",
      "Event            28715\n",
      "dtype: int64 \n",
      "\n",
      "Year              0\n",
      "Country           0\n",
      "Winner            0\n",
      "Runners-Up        0\n",
      "Third             0\n",
      "Fourth            0\n",
      "GoalsScored       0\n",
      "QualifiedTeams    0\n",
      "MatchesPlayed     0\n",
      "Attendance        0\n",
      "dtype: int64 \n",
      "\n"
     ]
    }
   ],
   "source": [
    "print(matches_df.isnull().sum(), \"\\n\")\n",
    "print(players_df.isnull().sum(), \"\\n\")\n",
    "print(worldcups_df.isnull().sum(), \"\\n\")"
   ]
  },
  {
   "cell_type": "code",
   "execution_count": null,
   "id": "3a60b35c-815c-4f75-bf11-4ecfa9162d65",
   "metadata": {},
   "outputs": [],
   "source": []
  }
 ],
 "metadata": {
  "kernelspec": {
   "display_name": "Python 3 (ipykernel)",
   "language": "python",
   "name": "python3"
  },
  "language_info": {
   "codemirror_mode": {
    "name": "ipython",
    "version": 3
   },
   "file_extension": ".py",
   "mimetype": "text/x-python",
   "name": "python",
   "nbconvert_exporter": "python",
   "pygments_lexer": "ipython3",
   "version": "3.9.6"
  }
 },
 "nbformat": 4,
 "nbformat_minor": 5
}

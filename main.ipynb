{
 "cells": [
  {
   "cell_type": "code",
   "execution_count": 4,
   "id": "bfcc3b91-7ccb-4647-912e-857d276871bd",
   "metadata": {},
   "outputs": [
    {
     "name": "stdout",
     "output_type": "stream",
     "text": [
      "=== WorldCupMatches Columns ===\n",
      "Index(['Year', 'Datetime', 'Stage', 'Stadium', 'City', 'Home Team Name',\n",
      "       'Home Team Goals', 'Away Team Goals', 'Away Team Name',\n",
      "       'Win conditions', 'Attendance', 'Half-time Home Goals',\n",
      "       'Half-time Away Goals', 'Referee', 'Assistant 1', 'Assistant 2',\n",
      "       'RoundID', 'MatchID', 'Home Team Initials', 'Away Team Initials'],\n",
      "      dtype='object')\n",
      "=== WorldCupPlayers Columns ===\n",
      "Index(['RoundID', 'MatchID', 'Team Initials', 'Coach Name', 'Line-up',\n",
      "       'Shirt Number', 'Player Name', 'Position', 'Event'],\n",
      "      dtype='object')\n",
      "=== WorldCups Columns ===\n",
      "Index(['Year', 'Country', 'Winner', 'Runners-Up', 'Third', 'Fourth',\n",
      "       'GoalsScored', 'QualifiedTeams', 'MatchesPlayed', 'Attendance'],\n",
      "      dtype='object')\n"
     ]
    }
   ],
   "source": [
    "import pandas as pd\n",
    "\n",
    "matches_df = pd.read_csv(\"datasets/WorldCupMatches.csv\")\n",
    "players_df = pd.read_csv(\"datasets/WorldCupPlayers.csv\")\n",
    "worldcups_df = pd.read_csv(\"datasets/WorldCups.csv\")\n",
    "\n",
    "print(\"=== WorldCupMatches Columns ===\")\n",
    "print(matches_df.columns)\n",
    "\n",
    "print(\"=== WorldCupPlayers Columns ===\")\n",
    "print(players_df.columns)\n",
    "\n",
    "print(\"=== WorldCups Columns ===\")\n",
    "print(worldcups_df.columns)"
   ]
  },
  {
   "cell_type": "code",
   "execution_count": null,
   "id": "be24feb1-1080-4d79-bc68-1ef196a21c92",
   "metadata": {},
   "outputs": [],
   "source": []
  }
 ],
 "metadata": {
  "kernelspec": {
   "display_name": "Python 3 (ipykernel)",
   "language": "python",
   "name": "python3"
  },
  "language_info": {
   "codemirror_mode": {
    "name": "ipython",
    "version": 3
   },
   "file_extension": ".py",
   "mimetype": "text/x-python",
   "name": "python",
   "nbconvert_exporter": "python",
   "pygments_lexer": "ipython3",
   "version": "3.9.6"
  }
 },
 "nbformat": 4,
 "nbformat_minor": 5
}
